{
 "cells": [
  {
   "cell_type": "code",
   "execution_count": 1,
   "metadata": {},
   "outputs": [],
   "source": [
    "# Python program to create Blockchain\n",
    " \n",
    "# For timestamp\n",
    "import datetime\n",
    " \n",
    "# Calculating the hash\n",
    "# in order to add digital\n",
    "# fingerprints to the blocks\n",
    "import hashlib\n",
    " \n",
    "# To store data\n",
    "# in our blockchain\n",
    "import json\n",
    " \n",
    "# Flask is for creating the web\n",
    "# app and jsonify is for\n",
    "# displaying the blockchain\n",
    "from flask import Flask, jsonify"
   ]
  },
  {
   "cell_type": "code",
   "execution_count": 2,
   "metadata": {},
   "outputs": [],
   "source": [
    "class Blockchain:\n",
    " \n",
    "    # This function is created\n",
    "    # to create the very first\n",
    "    # block and set its hash to \"0\"\n",
    "    def __init__(self):\n",
    "        self.chain = []\n",
    "        self.create_block(proof=1, previous_hash='0')\n",
    " \n",
    "    # This function is created\n",
    "    # to add further blocks\n",
    "    # into the chain\n",
    "    def create_block(self, proof, previous_hash):\n",
    "        block = {'index': len(self.chain) + 1,\n",
    "                 'timestamp': str(datetime.datetime.now()),\n",
    "                 'proof': proof,\n",
    "                 'previous_hash': previous_hash}\n",
    "        self.chain.append(block)\n",
    "        return block\n",
    " \n",
    "    # This function is created\n",
    "    # to display the previous block\n",
    "    def print_previous_block(self):\n",
    "        return self.chain[-1]\n",
    " \n",
    "    # This is the function for proof of work\n",
    "    # and used to successfully mine the block\n",
    "    def proof_of_work(self, previous_proof):\n",
    "        new_proof = 1\n",
    "        check_proof = False\n",
    " \n",
    "        while check_proof is False:\n",
    "            hash_operation = hashlib.sha256(\n",
    "                str(new_proof**2 - previous_proof**2).encode()).hexdigest()\n",
    "            if hash_operation[:5] == '00000':\n",
    "                check_proof = True\n",
    "            else:\n",
    "                new_proof += 1\n",
    " \n",
    "        return new_proof\n",
    " \n",
    "    def hash(self, block):\n",
    "        encoded_block = json.dumps(block, sort_keys=True).encode()\n",
    "        return hashlib.sha256(encoded_block).hexdigest()\n",
    " \n",
    "    def chain_valid(self, chain):\n",
    "        previous_block = chain[0]\n",
    "        block_index = 1\n",
    " \n",
    "        while block_index < len(chain):\n",
    "            block = chain[block_index]\n",
    "            if block['previous_hash'] != self.hash(previous_block):\n",
    "                return False\n",
    " \n",
    "            previous_proof = previous_block['proof']\n",
    "            proof = block['proof']\n",
    "            hash_operation = hashlib.sha256(\n",
    "                str(proof**2 - previous_proof**2).encode()).hexdigest()\n",
    " \n",
    "            if hash_operation[:5] != '00000':\n",
    "                return False\n",
    "            previous_block = block\n",
    "            block_index += 1\n",
    " \n",
    "        return True"
   ]
  },
  {
   "cell_type": "code",
   "execution_count": 3,
   "metadata": {},
   "outputs": [],
   "source": [
    "# Creating the Web\n",
    "# App using flask\n",
    "app = Flask(__name__)\n",
    " \n",
    "# Create the object\n",
    "# of the class blockchain\n",
    "blockchain = Blockchain()"
   ]
  },
  {
   "cell_type": "code",
   "execution_count": 4,
   "metadata": {},
   "outputs": [],
   "source": [
    "# Mining a new block\n",
    "\n",
    "@app.route('/mine_block', methods=['GET'])\n",
    "def mine_block():\n",
    "    previous_block = blockchain.print_previous_block()\n",
    "    previous_proof = previous_block['proof']\n",
    "    proof = blockchain.proof_of_work(previous_proof)\n",
    "    previous_hash = blockchain.hash(previous_block)\n",
    "    block = blockchain.create_block(proof, previous_hash)\n",
    " \n",
    "    response = {'message': 'A block is MINED',\n",
    "                'index': block['index'],\n",
    "                'timestamp': block['timestamp'],\n",
    "                'proof': block['proof'],\n",
    "                'previous_hash': block['previous_hash']}\n",
    " \n",
    "    return jsonify(response), 200\n"
   ]
  },
  {
   "cell_type": "code",
   "execution_count": 5,
   "metadata": {},
   "outputs": [],
   "source": [
    "# Display blockchain in json format\n",
    " \n",
    "@app.route('/get_chain', methods=['GET'])\n",
    "def display_chain():\n",
    "    response = {'chain': blockchain.chain,\n",
    "                'length': len(blockchain.chain)}\n",
    "    return jsonify(response), 200"
   ]
  },
  {
   "cell_type": "code",
   "execution_count": 6,
   "metadata": {},
   "outputs": [],
   "source": [
    "# Check validity of blockchain\n",
    " \n",
    "@app.route('/valid', methods=['GET'])\n",
    "def valid():\n",
    "    valid = blockchain.chain_valid(blockchain.chain)\n",
    " \n",
    "    if valid:\n",
    "        response = {'message': 'The Blockchain is valid.'}\n",
    "    else:\n",
    "        response = {'message': 'The Blockchain is not valid.'}\n",
    "    return jsonify(response), 200"
   ]
  },
  {
   "cell_type": "code",
   "execution_count": 7,
   "metadata": {},
   "outputs": [
    {
     "name": "stdout",
     "output_type": "stream",
     "text": [
      " * Serving Flask app \"__main__\" (lazy loading)\n",
      " * Environment: production\n",
      "   WARNING: This is a development server. Do not use it in a production deployment.\n",
      "   Use a production WSGI server instead.\n",
      " * Debug mode: off\n"
     ]
    },
    {
     "name": "stderr",
     "output_type": "stream",
     "text": [
      " * Running on http://127.0.0.1:5000/ (Press CTRL+C to quit)\n",
      "127.0.0.1 - - [25/Dec/2022 20:01:23] \"\u001b[33mGET / HTTP/1.1\u001b[0m\" 404 -\n",
      "127.0.0.1 - - [25/Dec/2022 20:01:23] \"\u001b[33mGET /favicon.ico HTTP/1.1\u001b[0m\" 404 -\n",
      "127.0.0.1 - - [25/Dec/2022 20:01:48] \"\u001b[33mGET / HTTP/1.1\u001b[0m\" 404 -\n",
      "127.0.0.1 - - [25/Dec/2022 20:01:56] \"\u001b[37mGET /get_chain HTTP/1.1\u001b[0m\" 200 -\n",
      "127.0.0.1 - - [25/Dec/2022 20:02:17] \"\u001b[37mGET /valid HTTP/1.1\u001b[0m\" 200 -\n",
      "127.0.0.1 - - [25/Dec/2022 20:02:29] \"\u001b[37mGET /mine_block HTTP/1.1\u001b[0m\" 200 -\n",
      "127.0.0.1 - - [25/Dec/2022 20:02:43] \"\u001b[37mGET /mine_block HTTP/1.1\u001b[0m\" 200 -\n",
      "127.0.0.1 - - [25/Dec/2022 20:02:52] \"\u001b[37mGET /get_chain HTTP/1.1\u001b[0m\" 200 -\n"
     ]
    }
   ],
   "source": [
    "app.run()"
   ]
  },
  {
   "cell_type": "code",
   "execution_count": null,
   "metadata": {},
   "outputs": [],
   "source": []
  }
 ],
 "metadata": {
  "kernelspec": {
   "display_name": "Python 3",
   "language": "python",
   "name": "python3"
  },
  "language_info": {
   "codemirror_mode": {
    "name": "ipython",
    "version": 3
   },
   "file_extension": ".py",
   "mimetype": "text/x-python",
   "name": "python",
   "nbconvert_exporter": "python",
   "pygments_lexer": "ipython3",
   "version": "3.7.6"
  }
 },
 "nbformat": 4,
 "nbformat_minor": 4
}
